{
 "cells": [
  {
   "cell_type": "code",
   "execution_count": 170,
   "metadata": {},
   "outputs": [],
   "source": [
    "# Import libraries\n",
    "import tabula\n",
    "from tabula import read_pdf\n",
    "import pandas as pd\n",
    "import csv"
   ]
  },
  {
   "cell_type": "code",
   "execution_count": 171,
   "metadata": {},
   "outputs": [],
   "source": [
    "file = \"name.pdf\"\n",
    "\n",
    "# Header of the table\n",
    "nameTable = ['Header']\n",
    "\n",
    "# Import pdf to a data frame (table is a list of a list)\n",
    "table = tabula.read_pdf(file,pages=[...], pandas_options = {'header': None})\n",
    "table.columns = nameTable # Add a header to the data frame"
   ]
  },
  {
   "cell_type": "code",
   "execution_count": 172,
   "metadata": {},
   "outputs": [],
   "source": [
    "# Import data frame to csv file named: 'table.csv'\n",
    "table.to_csv(r'PATH\\table.csv', index = False)"
   ]
  }
 ],
 "metadata": {
  "kernelspec": {
   "display_name": "Python 3",
   "language": "python",
   "name": "python3"
  },
  "language_info": {
   "codemirror_mode": {
    "name": "ipython",
    "version": 3
   },
   "file_extension": ".py",
   "mimetype": "text/x-python",
   "name": "python",
   "nbconvert_exporter": "python",
   "pygments_lexer": "ipython3",
   "version": "3.8.5"
  }
 },
 "nbformat": 4,
 "nbformat_minor": 4
}
