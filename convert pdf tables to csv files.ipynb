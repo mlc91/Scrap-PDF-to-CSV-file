{
 "cells": [
  {
   "cell_type": "code",
   "execution_count": 170,
   "metadata": {},
   "outputs": [],
   "source": [
    "# Import libraries\n",
    "import tabula\n",
    "from tabula import read_pdf\n",
    "import pandas as pd\n",
    "import csv"
   ]
  },
  {
   "cell_type": "code",
   "execution_count": 171,
   "metadata": {},
   "outputs": [],
   "source": [
    "file = \"CSCA_2019_CSCA_Retail_100.pdf\"\n",
    "\n",
    "# Header of the table\n",
    "namesTable1 = ['Rank', 'Capital Control', 'Corporate Ownership', 'Banner (selected examples for multi-chain conglomerates)', 'Retail Sales (C$ Millions)','Space Sq. Ft. (000s)', 'Number of Stores', 'Number of Employees', 'Number of Chains', 'NAICS Code']\n",
    "\n",
    "# Import pdf to a data frame (table1 is a list of a list)\n",
    "table1 = tabula.read_pdf(file,pages=[3,4], pandas_options = {'header': None})"
   ]
  },
  {
   "cell_type": "code",
   "execution_count": 172,
   "metadata": {},
   "outputs": [],
   "source": [
    "# Create a new data frame for the first list of table1\n",
    "df = table1[0]\n",
    "df.columns = namesTable1 #Add a header to the data frame\n",
    "\n",
    "# Create a new data frame for the second list of table1\n",
    "df2 = table1[1]\n",
    "df2.columns = namesTable1 # Add a header to the data frame\n",
    "\n",
    "# Join the data frames\n",
    "df = df.append(df2)\n",
    "\n",
    "# Import data frame to csv file named: 'table1.csv'\n",
    "df.to_csv(r'C:\\Users\\maria\\Documents\\UpWork\\table1.csv', index = False)"
   ]
  },
  {
   "cell_type": "code",
   "execution_count": 173,
   "metadata": {},
   "outputs": [],
   "source": [
    "# Header of the table\n",
    "namesTable2 = ['Rank', 'Corporate Control', 'Retail Chains', 'Retail Sales ($C Millions)', 'Space Sq. Ft. (000s)', 'Number of Stores', 'Number of Employees', 'NAICS Code', 'Corporate Ownership']\n",
    "\n",
    "# Import pdf to a data frame (table3 is a list of a list)\n",
    "table3 = tabula.read_pdf(file,pages = [7,8], pandas_options = {'header': None})"
   ]
  },
  {
   "cell_type": "code",
   "execution_count": 174,
   "metadata": {},
   "outputs": [],
   "source": [
    "# Create a new data frame for the first list of table3\n",
    "df3 = table3[0]\n",
    "df3 = df3.drop([0, 1],axis=0) # Drop de first and second rows. (It contains garbage)\n",
    "df3.columns = namesTable2 # Add a header to the data frame\n",
    "\n",
    "# Create a new data frame for the second list of table3\n",
    "df4 = table3[1]\n",
    "df4 = df4.drop([0],axis=0) # Drop de first row. (It contain garbage)\n",
    "df4.columns = namesTable2 # Add a header to the data frame\n",
    "\n",
    "# This columns were float, so I turn it into int\n",
    "df4.iloc[:,0] = df4.iloc[:,0].astype(int) \n",
    "df4.iloc[:,7] = df4.iloc[:,7].astype(int)\n",
    "\n",
    "# Join the data frames\n",
    "df3 = df3.append(df4)\n",
    "\n",
    "# Import data frame to csv file named: 'table3.csv'\n",
    "df3.to_csv(r'C:\\Users\\maria\\Documents\\UpWork\\table3.csv', index = False)"
   ]
  }
 ],
 "metadata": {
  "kernelspec": {
   "display_name": "Python 3",
   "language": "python",
   "name": "python3"
  },
  "language_info": {
   "codemirror_mode": {
    "name": "ipython",
    "version": 3
   },
   "file_extension": ".py",
   "mimetype": "text/x-python",
   "name": "python",
   "nbconvert_exporter": "python",
   "pygments_lexer": "ipython3",
   "version": "3.8.5"
  }
 },
 "nbformat": 4,
 "nbformat_minor": 4
}
